{
 "cells": [
  {
   "cell_type": "code",
   "execution_count": 1,
   "metadata": {},
   "outputs": [],
   "source": [
    "import numpy as np\n",
    "import pandas as pd\n",
    "import matplotlib.pyplot as plt\n",
    "import seaborn as sns"
   ]
  },
  {
   "cell_type": "code",
   "execution_count": 2,
   "metadata": {},
   "outputs": [],
   "source": [
    "pd.set_option('display.max_row', 147)"
   ]
  },
  {
   "cell_type": "code",
   "execution_count": 3,
   "metadata": {},
   "outputs": [],
   "source": [
    "pd.set_option('display.max_column', 147)"
   ]
  },
  {
   "cell_type": "code",
   "execution_count": 4,
   "metadata": {},
   "outputs": [
    {
     "data": {
      "text/html": [
       "<div>\n",
       "<style scoped>\n",
       "    .dataframe tbody tr th:only-of-type {\n",
       "        vertical-align: middle;\n",
       "    }\n",
       "\n",
       "    .dataframe tbody tr th {\n",
       "        vertical-align: top;\n",
       "    }\n",
       "\n",
       "    .dataframe thead th {\n",
       "        text-align: right;\n",
       "    }\n",
       "</style>\n",
       "<table border=\"1\" class=\"dataframe\">\n",
       "  <thead>\n",
       "    <tr style=\"text-align: right;\">\n",
       "      <th></th>\n",
       "      <th>date</th>\n",
       "      <th>day</th>\n",
       "      <th>aircraft</th>\n",
       "      <th>helicopter</th>\n",
       "      <th>tank</th>\n",
       "      <th>APC</th>\n",
       "      <th>field artillery</th>\n",
       "      <th>MRL</th>\n",
       "      <th>military auto</th>\n",
       "      <th>fuel tank</th>\n",
       "      <th>drone</th>\n",
       "      <th>naval ship</th>\n",
       "      <th>anti-aircraft warfare</th>\n",
       "      <th>special equipment</th>\n",
       "      <th>mobile SRBM system</th>\n",
       "    </tr>\n",
       "  </thead>\n",
       "  <tbody>\n",
       "    <tr>\n",
       "      <th>0</th>\n",
       "      <td>2022-02-25</td>\n",
       "      <td>2</td>\n",
       "      <td>10</td>\n",
       "      <td>7</td>\n",
       "      <td>80</td>\n",
       "      <td>516</td>\n",
       "      <td>49</td>\n",
       "      <td>4</td>\n",
       "      <td>100</td>\n",
       "      <td>60</td>\n",
       "      <td>0</td>\n",
       "      <td>2</td>\n",
       "      <td>0</td>\n",
       "      <td>NaN</td>\n",
       "      <td>NaN</td>\n",
       "    </tr>\n",
       "    <tr>\n",
       "      <th>1</th>\n",
       "      <td>2022-02-26</td>\n",
       "      <td>3</td>\n",
       "      <td>27</td>\n",
       "      <td>26</td>\n",
       "      <td>146</td>\n",
       "      <td>706</td>\n",
       "      <td>49</td>\n",
       "      <td>4</td>\n",
       "      <td>130</td>\n",
       "      <td>60</td>\n",
       "      <td>2</td>\n",
       "      <td>2</td>\n",
       "      <td>0</td>\n",
       "      <td>NaN</td>\n",
       "      <td>NaN</td>\n",
       "    </tr>\n",
       "    <tr>\n",
       "      <th>2</th>\n",
       "      <td>2022-02-27</td>\n",
       "      <td>4</td>\n",
       "      <td>27</td>\n",
       "      <td>26</td>\n",
       "      <td>150</td>\n",
       "      <td>706</td>\n",
       "      <td>50</td>\n",
       "      <td>4</td>\n",
       "      <td>130</td>\n",
       "      <td>60</td>\n",
       "      <td>2</td>\n",
       "      <td>2</td>\n",
       "      <td>0</td>\n",
       "      <td>NaN</td>\n",
       "      <td>NaN</td>\n",
       "    </tr>\n",
       "    <tr>\n",
       "      <th>3</th>\n",
       "      <td>2022-02-28</td>\n",
       "      <td>5</td>\n",
       "      <td>29</td>\n",
       "      <td>29</td>\n",
       "      <td>150</td>\n",
       "      <td>816</td>\n",
       "      <td>74</td>\n",
       "      <td>21</td>\n",
       "      <td>291</td>\n",
       "      <td>60</td>\n",
       "      <td>3</td>\n",
       "      <td>2</td>\n",
       "      <td>5</td>\n",
       "      <td>NaN</td>\n",
       "      <td>NaN</td>\n",
       "    </tr>\n",
       "    <tr>\n",
       "      <th>4</th>\n",
       "      <td>2022-03-01</td>\n",
       "      <td>6</td>\n",
       "      <td>29</td>\n",
       "      <td>29</td>\n",
       "      <td>198</td>\n",
       "      <td>846</td>\n",
       "      <td>77</td>\n",
       "      <td>24</td>\n",
       "      <td>305</td>\n",
       "      <td>60</td>\n",
       "      <td>3</td>\n",
       "      <td>2</td>\n",
       "      <td>7</td>\n",
       "      <td>NaN</td>\n",
       "      <td>NaN</td>\n",
       "    </tr>\n",
       "  </tbody>\n",
       "</table>\n",
       "</div>"
      ],
      "text/plain": [
       "         date  day  aircraft  helicopter  tank  APC  field artillery  MRL  \\\n",
       "0  2022-02-25    2        10           7    80  516               49    4   \n",
       "1  2022-02-26    3        27          26   146  706               49    4   \n",
       "2  2022-02-27    4        27          26   150  706               50    4   \n",
       "3  2022-02-28    5        29          29   150  816               74   21   \n",
       "4  2022-03-01    6        29          29   198  846               77   24   \n",
       "\n",
       "   military auto  fuel tank  drone  naval ship  anti-aircraft warfare  \\\n",
       "0            100         60      0           2                      0   \n",
       "1            130         60      2           2                      0   \n",
       "2            130         60      2           2                      0   \n",
       "3            291         60      3           2                      5   \n",
       "4            305         60      3           2                      7   \n",
       "\n",
       "   special equipment  mobile SRBM system  \n",
       "0                NaN                 NaN  \n",
       "1                NaN                 NaN  \n",
       "2                NaN                 NaN  \n",
       "3                NaN                 NaN  \n",
       "4                NaN                 NaN  "
      ]
     },
     "execution_count": 4,
     "metadata": {},
     "output_type": "execute_result"
    }
   ],
   "source": [
    "df = pd.read_csv(\"russia_losses_equipment.csv\")\n",
    "df.head()"
   ]
  },
  {
   "cell_type": "code",
   "execution_count": 5,
   "metadata": {},
   "outputs": [
    {
     "data": {
      "text/plain": [
       "(50, 15)"
      ]
     },
     "execution_count": 5,
     "metadata": {},
     "output_type": "execute_result"
    }
   ],
   "source": [
    "df.shape"
   ]
  },
  {
   "cell_type": "code",
   "execution_count": 6,
   "metadata": {},
   "outputs": [
    {
     "data": {
      "text/plain": [
       "Index(['date', 'day', 'aircraft', 'helicopter', 'tank', 'APC',\n",
       "       'field artillery', 'MRL', 'military auto', 'fuel tank', 'drone',\n",
       "       'naval ship', 'anti-aircraft warfare', 'special equipment',\n",
       "       'mobile SRBM system'],\n",
       "      dtype='object')"
      ]
     },
     "execution_count": 6,
     "metadata": {},
     "output_type": "execute_result"
    }
   ],
   "source": [
    "df.columns"
   ]
  },
  {
   "cell_type": "code",
   "execution_count": 7,
   "metadata": {},
   "outputs": [
    {
     "name": "stdout",
     "output_type": "stream",
     "text": [
      "<class 'pandas.core.frame.DataFrame'>\n",
      "RangeIndex: 50 entries, 0 to 49\n",
      "Data columns (total 15 columns):\n",
      " #   Column                 Non-Null Count  Dtype  \n",
      "---  ------                 --------------  -----  \n",
      " 0   date                   50 non-null     object \n",
      " 1   day                    50 non-null     int64  \n",
      " 2   aircraft               50 non-null     int64  \n",
      " 3   helicopter             50 non-null     int64  \n",
      " 4   tank                   50 non-null     int64  \n",
      " 5   APC                    50 non-null     int64  \n",
      " 6   field artillery        50 non-null     int64  \n",
      " 7   MRL                    50 non-null     int64  \n",
      " 8   military auto          50 non-null     int64  \n",
      " 9   fuel tank              50 non-null     int64  \n",
      " 10  drone                  50 non-null     int64  \n",
      " 11  naval ship             50 non-null     int64  \n",
      " 12  anti-aircraft warfare  50 non-null     int64  \n",
      " 13  special equipment      31 non-null     float64\n",
      " 14  mobile SRBM system     21 non-null     float64\n",
      "dtypes: float64(2), int64(12), object(1)\n",
      "memory usage: 6.0+ KB\n"
     ]
    }
   ],
   "source": [
    "df.info()"
   ]
  },
  {
   "cell_type": "code",
   "execution_count": 8,
   "metadata": {},
   "outputs": [
    {
     "data": {
      "text/plain": [
       "int64      12\n",
       "float64     2\n",
       "object      1\n",
       "dtype: int64"
      ]
     },
     "execution_count": 8,
     "metadata": {},
     "output_type": "execute_result"
    }
   ],
   "source": [
    "df.dtypes.value_counts()"
   ]
  },
  {
   "cell_type": "code",
   "execution_count": 9,
   "metadata": {},
   "outputs": [
    {
     "name": "stdout",
     "output_type": "stream",
     "text": [
      "0     2022-02-25\n",
      "1     2022-02-26\n",
      "2     2022-02-27\n",
      "3     2022-02-28\n",
      "4     2022-03-01\n",
      "5     2022-03-02\n",
      "6     2022-03-03\n",
      "7     2022-03-04\n",
      "8     2022-03-05\n",
      "9     2022-03-06\n",
      "10    2022-03-07\n",
      "11    2022-03-08\n",
      "12    2022-03-09\n",
      "13    2022-03-10\n",
      "14    2022-03-11\n",
      "15    2022-03-12\n",
      "16    2022-03-13\n",
      "17    2022-03-14\n",
      "18    2022-03-15\n",
      "19    2022-03-16\n",
      "20    2022-03-17\n",
      "21    2022-03-18\n",
      "22    2022-03-19\n",
      "23    2022-03-20\n",
      "24    2022-03-21\n",
      "25    2022-03-22\n",
      "26    2022-03-23\n",
      "27    2022-03-24\n",
      "28    2022-03-25\n",
      "29    2022-03-26\n",
      "30    2022-03-27\n",
      "31    2022-03-28\n",
      "32    2022-03-29\n",
      "33    2022-03-30\n",
      "34    2022-03-31\n",
      "35    2022-04-01\n",
      "36    2022-04-02\n",
      "37    2022-04-03\n",
      "38    2022-04-04\n",
      "39    2022-04-05\n",
      "40    2022-04-06\n",
      "41    2022-04-07\n",
      "42    2022-04-08\n",
      "43    2022-04-09\n",
      "44    2022-04-10\n",
      "45    2022-04-11\n",
      "46    2022-04-12\n",
      "47    2022-04-13\n",
      "48    2022-04-14\n",
      "49    2022-04-15\n",
      "Name: date, dtype: object\n"
     ]
    }
   ],
   "source": [
    "for col in df.select_dtypes(\"object\"):\n",
    "    print(df[col])"
   ]
  },
  {
   "cell_type": "code",
   "execution_count": 10,
   "metadata": {},
   "outputs": [
    {
     "data": {
      "text/plain": [
       "date                      0\n",
       "day                       0\n",
       "aircraft                  0\n",
       "helicopter                0\n",
       "tank                      0\n",
       "APC                       0\n",
       "field artillery           0\n",
       "MRL                       0\n",
       "military auto             0\n",
       "fuel tank                 0\n",
       "drone                     0\n",
       "naval ship                0\n",
       "anti-aircraft warfare     0\n",
       "special equipment        19\n",
       "mobile SRBM system       29\n",
       "dtype: int64"
      ]
     },
     "execution_count": 10,
     "metadata": {},
     "output_type": "execute_result"
    }
   ],
   "source": [
    "df.isna().sum()"
   ]
  },
  {
   "cell_type": "code",
   "execution_count": 11,
   "metadata": {},
   "outputs": [
    {
     "data": {
      "text/plain": [
       "<matplotlib.axes._subplots.AxesSubplot at 0x1688deab970>"
      ]
     },
     "execution_count": 11,
     "metadata": {},
     "output_type": "execute_result"
    },
    {
     "data": {
      "image/png": "[encoded data removed]",
      "text/plain": [
       "<Figure size 1440x720 with 1 Axes>"
      ]
     },
     "metadata": {
      "needs_background": "light"
     },
     "output_type": "display_data"
    }
   ],
   "source": [
    "plt.figure(figsize=(20,10))\n",
    "sns.heatmap(df.isna(), cbar=False)"
   ]
  },
  {
   "cell_type": "code",
   "execution_count": 12,
   "metadata": {},
   "outputs": [
    {
     "data": {
      "text/plain": [
       "date                     0.00\n",
       "day                      0.00\n",
       "aircraft                 0.00\n",
       "helicopter               0.00\n",
       "tank                     0.00\n",
       "APC                      0.00\n",
       "field artillery          0.00\n",
       "MRL                      0.00\n",
       "military auto            0.00\n",
       "fuel tank                0.00\n",
       "drone                    0.00\n",
       "naval ship               0.00\n",
       "anti-aircraft warfare    0.00\n",
       "special equipment        0.38\n",
       "mobile SRBM system       0.58\n",
       "dtype: float64"
      ]
     },
     "execution_count": 12,
     "metadata": {},
     "output_type": "execute_result"
    }
   ],
   "source": [
    "(df.isna().sum()/df.shape[0]).sort_values(ascending=True)"
   ]
  },
  {
   "cell_type": "code",
   "execution_count": 13,
   "metadata": {},
   "outputs": [],
   "source": [
    "list_object = []\n",
    "for col in df.select_dtypes('object'):\n",
    "    list_object.append(col)"
   ]
  },
  {
   "cell_type": "code",
   "execution_count": 14,
   "metadata": {},
   "outputs": [
    {
     "data": {
      "text/plain": [
       "['date']"
      ]
     },
     "execution_count": 14,
     "metadata": {},
     "output_type": "execute_result"
    }
   ],
   "source": [
    "list_object"
   ]
  },
  {
   "cell_type": "code",
   "execution_count": 15,
   "metadata": {},
   "outputs": [],
   "source": [
    "list_float = []\n",
    "for col in df.select_dtypes('float64'):\n",
    "    list_float.append(col)"
   ]
  },
  {
   "cell_type": "code",
   "execution_count": 16,
   "metadata": {},
   "outputs": [
    {
     "data": {
      "text/plain": [
       "['special equipment', 'mobile SRBM system']"
      ]
     },
     "execution_count": 16,
     "metadata": {},
     "output_type": "execute_result"
    }
   ],
   "source": [
    "list_float"
   ]
  },
  {
   "cell_type": "code",
   "execution_count": 17,
   "metadata": {},
   "outputs": [],
   "source": [
    "list_int = []\n",
    "for col in df.select_dtypes('int64'):\n",
    "    list_int.append(col)"
   ]
  },
  {
   "cell_type": "code",
   "execution_count": 18,
   "metadata": {},
   "outputs": [
    {
     "data": {
      "text/plain": [
       "['day',\n",
       " 'aircraft',\n",
       " 'helicopter',\n",
       " 'tank',\n",
       " 'APC',\n",
       " 'field artillery',\n",
       " 'MRL',\n",
       " 'military auto',\n",
       " 'fuel tank',\n",
       " 'drone',\n",
       " 'naval ship',\n",
       " 'anti-aircraft warfare']"
      ]
     },
     "execution_count": 18,
     "metadata": {},
     "output_type": "execute_result"
    }
   ],
   "source": [
    "list_int"
   ]
  },
  {
   "cell_type": "code",
   "execution_count": 19,
   "metadata": {},
   "outputs": [
    {
     "name": "stdout",
     "output_type": "stream",
     "text": [
      "special equipment--------------------------------- [nan 10. 11. 12. 13. 15. 16. 18. 19. 21. 22. 24. 25.]\n",
      "mobile SRBM system-------------------------------- [nan  2.  4.]\n"
     ]
    }
   ],
   "source": [
    "for col in df.select_dtypes('float64'):\n",
    "    print(f'{col :-<50} {df[col].unique()}')"
   ]
  },
  {
   "cell_type": "code",
   "execution_count": 20,
   "metadata": {},
   "outputs": [
    {
     "name": "stdout",
     "output_type": "stream",
     "text": [
      "date---------------------------------------------- ['2022-02-25' '2022-02-26' '2022-02-27' '2022-02-28' '2022-03-01'\n",
      " '2022-03-02' '2022-03-03' '2022-03-04' '2022-03-05' '2022-03-06'\n",
      " '2022-03-07' '2022-03-08' '2022-03-09' '2022-03-10' '2022-03-11'\n",
      " '2022-03-12' '2022-03-13' '2022-03-14' '2022-03-15' '2022-03-16'\n",
      " '2022-03-17' '2022-03-18' '2022-03-19' '2022-03-20' '2022-03-21'\n",
      " '2022-03-22' '2022-03-23' '2022-03-24' '2022-03-25' '2022-03-26'\n",
      " '2022-03-27' '2022-03-28' '2022-03-29' '2022-03-30' '2022-03-31'\n",
      " '2022-04-01' '2022-04-02' '2022-04-03' '2022-04-04' '2022-04-05'\n",
      " '2022-04-06' '2022-04-07' '2022-04-08' '2022-04-09' '2022-04-10'\n",
      " '2022-04-11' '2022-04-12' '2022-04-13' '2022-04-14' '2022-04-15']\n"
     ]
    }
   ],
   "source": [
    "for col in df.select_dtypes('object'):\n",
    "    print(f'{col :-<50} {df[col].unique()}')"
   ]
  },
  {
   "cell_type": "code",
   "execution_count": 21,
   "metadata": {},
   "outputs": [
    {
     "name": "stdout",
     "output_type": "stream",
     "text": [
      "day----------------------------------------------- [ 2  3  4  5  6  7  8  9 10 11 12 13 14 15 16 17 18 19 20 21 22 23 24 25\n",
      " 26 27 28 29 30 31 32 33 34 35 36 37 38 39 40 41 42 43 44 45 46 47 48 49\n",
      " 50 51]\n",
      "aircraft------------------------------------------ [ 10  27  29  30  33  39  44  46  48  49  57  58  74  77  81  84  86  93\n",
      "  95  96  97  99 101 108 115 117 121 123 127 131 135 143 147 150 151 152\n",
      " 154 157 158 160 163]\n",
      "helicopter---------------------------------------- [  7  26  29  31  37  40  48  68  80  81  83  86  90  95 108 112 115 118\n",
      " 121 123 124 125 127 129 131 134 135 136 137 140 143 144]\n",
      "tank---------------------------------------------- [ 80 146 150 198 211 217 251 269 285 290 303 317 335 353 362 374 389 404\n",
      " 430 444 450 466 476 498 509 517 530 561 575 582 586 597 605 614 625 631\n",
      " 644 647 676 684 698 700 705 722 725 732 739 753 756]\n",
      "APC----------------------------------------------- [ 516  706  816  846  862  900  939  945  985  999 1036 1070 1105 1165\n",
      " 1205 1226 1249 1279 1375 1435 1448 1470 1487 1535 1556 1578 1597 1625\n",
      " 1640 1664 1694 1710 1723 1735 1751 1776 1830 1844 1858 1861 1891 1895\n",
      " 1911 1923 1946 1964 1968 1976]\n",
      "field artillery----------------------------------- [ 49  50  74  77  85  90 105 109 117 120 123 125 135 140 150 190 201 205\n",
      " 213 230 240 252 267 280 291 293 294 302 303 305 311 316 317 325 330 332\n",
      " 333 335 342 347 349 358 366]\n",
      "MRL----------------------------------------------- [  4  21  24  40  42  50  56  58  62  64  70  72  74  80  82  90  91  93\n",
      "  95  96 100 105 107 108 111 115 122]\n",
      "military auto------------------------------------- [ 100  130  291  305  355  374  404  409  447  454  474  482  526  558\n",
      "  585  600  617  640  819  864  879  914  947  969 1000 1008 1033 1089\n",
      " 1131 1144 1150 1178 1184 1201 1220 1236 1249 1273 1322 1324 1358 1361\n",
      " 1363 1384 1387 1406 1429 1437 1443]\n",
      "fuel tank----------------------------------------- [60 70 72 73 75 76]\n",
      "drone--------------------------------------------- [  0   2   3   4   7   8   9  11  12  17  21  24  35  42  50  53  56  66\n",
      "  71  81  83  85  87  89  91  94  96 111 112 119 124 132 134 135]\n",
      "naval ship---------------------------------------- [2 3 4 5 7 8]\n",
      "anti-aircraft warfare----------------------------- [ 0  5  7  9 11 18 19 21 23 27 28 29 31 33 34 36 43 44 45 47 49 51 52 54\n",
      " 55 63 64 66]\n"
     ]
    }
   ],
   "source": [
    "for col in df.select_dtypes('int64'):\n",
    "    print(f'{col :-<50} {df[col].unique()}')"
   ]
  },
  {
   "cell_type": "code",
   "execution_count": 22,
   "metadata": {},
   "outputs": [
    {
     "data": {
      "text/html": [
       "<div>\n",
       "<style scoped>\n",
       "    .dataframe tbody tr th:only-of-type {\n",
       "        vertical-align: middle;\n",
       "    }\n",
       "\n",
       "    .dataframe tbody tr th {\n",
       "        vertical-align: top;\n",
       "    }\n",
       "\n",
       "    .dataframe thead th {\n",
       "        text-align: right;\n",
       "    }\n",
       "</style>\n",
       "<table border=\"1\" class=\"dataframe\">\n",
       "  <thead>\n",
       "    <tr style=\"text-align: right;\">\n",
       "      <th></th>\n",
       "      <th>count</th>\n",
       "      <th>mean</th>\n",
       "      <th>std</th>\n",
       "      <th>min</th>\n",
       "      <th>25%</th>\n",
       "      <th>50%</th>\n",
       "      <th>75%</th>\n",
       "      <th>max</th>\n",
       "    </tr>\n",
       "  </thead>\n",
       "  <tbody>\n",
       "    <tr>\n",
       "      <th>mobile SRBM system</th>\n",
       "      <td>21.0</td>\n",
       "      <td>3.904762</td>\n",
       "      <td>0.436436</td>\n",
       "      <td>2.0</td>\n",
       "      <td>4.00</td>\n",
       "      <td>4.0</td>\n",
       "      <td>4.00</td>\n",
       "      <td>4.0</td>\n",
       "    </tr>\n",
       "    <tr>\n",
       "      <th>naval ship</th>\n",
       "      <td>50.0</td>\n",
       "      <td>4.580000</td>\n",
       "      <td>2.195450</td>\n",
       "      <td>2.0</td>\n",
       "      <td>3.00</td>\n",
       "      <td>3.0</td>\n",
       "      <td>7.00</td>\n",
       "      <td>8.0</td>\n",
       "    </tr>\n",
       "    <tr>\n",
       "      <th>special equipment</th>\n",
       "      <td>31.0</td>\n",
       "      <td>20.258065</td>\n",
       "      <td>5.477029</td>\n",
       "      <td>10.0</td>\n",
       "      <td>15.50</td>\n",
       "      <td>22.0</td>\n",
       "      <td>25.00</td>\n",
       "      <td>25.0</td>\n",
       "    </tr>\n",
       "    <tr>\n",
       "      <th>fuel tank</th>\n",
       "      <td>50.0</td>\n",
       "      <td>67.320000</td>\n",
       "      <td>7.525304</td>\n",
       "      <td>60.0</td>\n",
       "      <td>60.00</td>\n",
       "      <td>65.0</td>\n",
       "      <td>76.00</td>\n",
       "      <td>76.0</td>\n",
       "    </tr>\n",
       "    <tr>\n",
       "      <th>day</th>\n",
       "      <td>50.0</td>\n",
       "      <td>26.500000</td>\n",
       "      <td>14.577380</td>\n",
       "      <td>2.0</td>\n",
       "      <td>14.25</td>\n",
       "      <td>26.5</td>\n",
       "      <td>38.75</td>\n",
       "      <td>51.0</td>\n",
       "    </tr>\n",
       "    <tr>\n",
       "      <th>anti-aircraft warfare</th>\n",
       "      <td>50.0</td>\n",
       "      <td>39.840000</td>\n",
       "      <td>18.732663</td>\n",
       "      <td>0.0</td>\n",
       "      <td>28.25</td>\n",
       "      <td>45.0</td>\n",
       "      <td>54.00</td>\n",
       "      <td>66.0</td>\n",
       "    </tr>\n",
       "    <tr>\n",
       "      <th>MRL</th>\n",
       "      <td>50.0</td>\n",
       "      <td>75.820000</td>\n",
       "      <td>31.324953</td>\n",
       "      <td>4.0</td>\n",
       "      <td>56.00</td>\n",
       "      <td>80.0</td>\n",
       "      <td>103.75</td>\n",
       "      <td>122.0</td>\n",
       "    </tr>\n",
       "    <tr>\n",
       "      <th>helicopter</th>\n",
       "      <td>50.0</td>\n",
       "      <td>101.080000</td>\n",
       "      <td>40.807582</td>\n",
       "      <td>7.0</td>\n",
       "      <td>81.00</td>\n",
       "      <td>122.0</td>\n",
       "      <td>134.00</td>\n",
       "      <td>144.0</td>\n",
       "    </tr>\n",
       "    <tr>\n",
       "      <th>drone</th>\n",
       "      <td>50.0</td>\n",
       "      <td>48.280000</td>\n",
       "      <td>46.350501</td>\n",
       "      <td>0.0</td>\n",
       "      <td>7.00</td>\n",
       "      <td>29.5</td>\n",
       "      <td>88.50</td>\n",
       "      <td>135.0</td>\n",
       "    </tr>\n",
       "    <tr>\n",
       "      <th>aircraft</th>\n",
       "      <td>50.0</td>\n",
       "      <td>96.720000</td>\n",
       "      <td>47.514569</td>\n",
       "      <td>10.0</td>\n",
       "      <td>49.00</td>\n",
       "      <td>98.0</td>\n",
       "      <td>143.00</td>\n",
       "      <td>163.0</td>\n",
       "    </tr>\n",
       "    <tr>\n",
       "      <th>field artillery</th>\n",
       "      <td>50.0</td>\n",
       "      <td>224.600000</td>\n",
       "      <td>105.268558</td>\n",
       "      <td>49.0</td>\n",
       "      <td>120.75</td>\n",
       "      <td>246.0</td>\n",
       "      <td>323.00</td>\n",
       "      <td>366.0</td>\n",
       "    </tr>\n",
       "    <tr>\n",
       "      <th>tank</th>\n",
       "      <td>50.0</td>\n",
       "      <td>479.220000</td>\n",
       "      <td>193.530285</td>\n",
       "      <td>80.0</td>\n",
       "      <td>321.50</td>\n",
       "      <td>503.5</td>\n",
       "      <td>640.75</td>\n",
       "      <td>756.0</td>\n",
       "    </tr>\n",
       "    <tr>\n",
       "      <th>APC</th>\n",
       "      <td>50.0</td>\n",
       "      <td>1442.240000</td>\n",
       "      <td>413.865036</td>\n",
       "      <td>516.0</td>\n",
       "      <td>1078.75</td>\n",
       "      <td>1545.5</td>\n",
       "      <td>1816.50</td>\n",
       "      <td>1976.0</td>\n",
       "    </tr>\n",
       "    <tr>\n",
       "      <th>military auto</th>\n",
       "      <td>50.0</td>\n",
       "      <td>891.660000</td>\n",
       "      <td>417.422637</td>\n",
       "      <td>100.0</td>\n",
       "      <td>493.00</td>\n",
       "      <td>984.5</td>\n",
       "      <td>1245.75</td>\n",
       "      <td>1443.0</td>\n",
       "    </tr>\n",
       "  </tbody>\n",
       "</table>\n",
       "</div>"
      ],
      "text/plain": [
       "                       count         mean         std    min      25%     50%  \\\n",
       "mobile SRBM system      21.0     3.904762    0.436436    2.0     4.00     4.0   \n",
       "naval ship              50.0     4.580000    2.195450    2.0     3.00     3.0   \n",
       "special equipment       31.0    20.258065    5.477029   10.0    15.50    22.0   \n",
       "fuel tank               50.0    67.320000    7.525304   60.0    60.00    65.0   \n",
       "day                     50.0    26.500000   14.577380    2.0    14.25    26.5   \n",
       "anti-aircraft warfare   50.0    39.840000   18.732663    0.0    28.25    45.0   \n",
       "MRL                     50.0    75.820000   31.324953    4.0    56.00    80.0   \n",
       "helicopter              50.0   101.080000   40.807582    7.0    81.00   122.0   \n",
       "drone                   50.0    48.280000   46.350501    0.0     7.00    29.5   \n",
       "aircraft                50.0    96.720000   47.514569   10.0    49.00    98.0   \n",
       "field artillery         50.0   224.600000  105.268558   49.0   120.75   246.0   \n",
       "tank                    50.0   479.220000  193.530285   80.0   321.50   503.5   \n",
       "APC                     50.0  1442.240000  413.865036  516.0  1078.75  1545.5   \n",
       "military auto           50.0   891.660000  417.422637  100.0   493.00   984.5   \n",
       "\n",
       "                           75%     max  \n",
       "mobile SRBM system        4.00     4.0  \n",
       "naval ship                7.00     8.0  \n",
       "special equipment        25.00    25.0  \n",
       "fuel tank                76.00    76.0  \n",
       "day                      38.75    51.0  \n",
       "anti-aircraft warfare    54.00    66.0  \n",
       "MRL                     103.75   122.0  \n",
       "helicopter              134.00   144.0  \n",
       "drone                    88.50   135.0  \n",
       "aircraft                143.00   163.0  \n",
       "field artillery         323.00   366.0  \n",
       "tank                    640.75   756.0  \n",
       "APC                    1816.50  1976.0  \n",
       "military auto          1245.75  1443.0  "
      ]
     },
     "execution_count": 22,
     "metadata": {},
     "output_type": "execute_result"
    }
   ],
   "source": [
    "df.describe().transpose().sort_values(\"std\")"
   ]
  },
  {
   "cell_type": "code",
   "execution_count": 23,
   "metadata": {},
   "outputs": [
    {
     "data": {
      "text/plain": [
       "4.0    20\n",
       "2.0     1\n",
       "Name: mobile SRBM system, dtype: int64"
      ]
     },
     "execution_count": 23,
     "metadata": {},
     "output_type": "execute_result"
    }
   ],
   "source": [
    "df[\"mobile SRBM system\"].value_counts()"
   ]
  },
  {
   "cell_type": "code",
   "execution_count": 29,
   "metadata": {},
   "outputs": [
    {
     "data": {
      "image/png": "[encoded data removed]",
      "text/plain": [
       "<Figure size 432x288 with 1 Axes>"
      ]
     },
     "metadata": {},
     "output_type": "display_data"
    }
   ],
   "source": [
    "df.dtypes.value_counts().plot.pie()\n",
    "plt.show()"
   ]
  },
  {
   "cell_type": "code",
   "execution_count": 25,
   "metadata": {},
   "outputs": [
    {
     "data": {
      "text/html": [
       "<div>\n",
       "<style scoped>\n",
       "    .dataframe tbody tr th:only-of-type {\n",
       "        vertical-align: middle;\n",
       "    }\n",
       "\n",
       "    .dataframe tbody tr th {\n",
       "        vertical-align: top;\n",
       "    }\n",
       "\n",
       "    .dataframe thead th {\n",
       "        text-align: right;\n",
       "    }\n",
       "</style>\n",
       "<table border=\"1\" class=\"dataframe\">\n",
       "  <thead>\n",
       "    <tr style=\"text-align: right;\">\n",
       "      <th></th>\n",
       "      <th>day</th>\n",
       "      <th>aircraft</th>\n",
       "      <th>helicopter</th>\n",
       "      <th>tank</th>\n",
       "      <th>APC</th>\n",
       "      <th>field artillery</th>\n",
       "      <th>MRL</th>\n",
       "      <th>military auto</th>\n",
       "      <th>fuel tank</th>\n",
       "      <th>drone</th>\n",
       "      <th>naval ship</th>\n",
       "      <th>anti-aircraft warfare</th>\n",
       "      <th>special equipment</th>\n",
       "      <th>mobile SRBM system</th>\n",
       "    </tr>\n",
       "  </thead>\n",
       "  <tbody>\n",
       "    <tr>\n",
       "      <th>day</th>\n",
       "      <td>1.000000</td>\n",
       "      <td>0.990122</td>\n",
       "      <td>0.928761</td>\n",
       "      <td>0.992776</td>\n",
       "      <td>0.982879</td>\n",
       "      <td>0.981575</td>\n",
       "      <td>0.968820</td>\n",
       "      <td>0.985719</td>\n",
       "      <td>0.906747</td>\n",
       "      <td>0.955606</td>\n",
       "      <td>0.926864</td>\n",
       "      <td>0.949809</td>\n",
       "      <td>0.928421</td>\n",
       "      <td>0.369274</td>\n",
       "    </tr>\n",
       "    <tr>\n",
       "      <th>aircraft</th>\n",
       "      <td>0.990122</td>\n",
       "      <td>1.000000</td>\n",
       "      <td>0.947124</td>\n",
       "      <td>0.992304</td>\n",
       "      <td>0.990142</td>\n",
       "      <td>0.989158</td>\n",
       "      <td>0.964162</td>\n",
       "      <td>0.990826</td>\n",
       "      <td>0.910160</td>\n",
       "      <td>0.931214</td>\n",
       "      <td>0.931848</td>\n",
       "      <td>0.957791</td>\n",
       "      <td>0.976276</td>\n",
       "      <td>0.462636</td>\n",
       "    </tr>\n",
       "    <tr>\n",
       "      <th>helicopter</th>\n",
       "      <td>0.928761</td>\n",
       "      <td>0.947124</td>\n",
       "      <td>1.000000</td>\n",
       "      <td>0.959012</td>\n",
       "      <td>0.971602</td>\n",
       "      <td>0.947345</td>\n",
       "      <td>0.951534</td>\n",
       "      <td>0.958516</td>\n",
       "      <td>0.788889</td>\n",
       "      <td>0.792587</td>\n",
       "      <td>0.832053</td>\n",
       "      <td>0.986367</td>\n",
       "      <td>0.944375</td>\n",
       "      <td>0.333241</td>\n",
       "    </tr>\n",
       "    <tr>\n",
       "      <th>tank</th>\n",
       "      <td>0.992776</td>\n",
       "      <td>0.992304</td>\n",
       "      <td>0.959012</td>\n",
       "      <td>1.000000</td>\n",
       "      <td>0.995880</td>\n",
       "      <td>0.987994</td>\n",
       "      <td>0.983912</td>\n",
       "      <td>0.994522</td>\n",
       "      <td>0.891990</td>\n",
       "      <td>0.921450</td>\n",
       "      <td>0.917106</td>\n",
       "      <td>0.974011</td>\n",
       "      <td>0.954188</td>\n",
       "      <td>0.347489</td>\n",
       "    </tr>\n",
       "    <tr>\n",
       "      <th>APC</th>\n",
       "      <td>0.982879</td>\n",
       "      <td>0.990142</td>\n",
       "      <td>0.971602</td>\n",
       "      <td>0.995880</td>\n",
       "      <td>1.000000</td>\n",
       "      <td>0.988285</td>\n",
       "      <td>0.981905</td>\n",
       "      <td>0.996237</td>\n",
       "      <td>0.876610</td>\n",
       "      <td>0.896082</td>\n",
       "      <td>0.899481</td>\n",
       "      <td>0.980073</td>\n",
       "      <td>0.961523</td>\n",
       "      <td>0.411010</td>\n",
       "    </tr>\n",
       "    <tr>\n",
       "      <th>field artillery</th>\n",
       "      <td>0.981575</td>\n",
       "      <td>0.989158</td>\n",
       "      <td>0.947345</td>\n",
       "      <td>0.987994</td>\n",
       "      <td>0.988285</td>\n",
       "      <td>1.000000</td>\n",
       "      <td>0.966743</td>\n",
       "      <td>0.995307</td>\n",
       "      <td>0.923684</td>\n",
       "      <td>0.923346</td>\n",
       "      <td>0.928131</td>\n",
       "      <td>0.959594</td>\n",
       "      <td>0.972955</td>\n",
       "      <td>0.364410</td>\n",
       "    </tr>\n",
       "    <tr>\n",
       "      <th>MRL</th>\n",
       "      <td>0.968820</td>\n",
       "      <td>0.964162</td>\n",
       "      <td>0.951534</td>\n",
       "      <td>0.983912</td>\n",
       "      <td>0.981905</td>\n",
       "      <td>0.966743</td>\n",
       "      <td>1.000000</td>\n",
       "      <td>0.978464</td>\n",
       "      <td>0.850929</td>\n",
       "      <td>0.879373</td>\n",
       "      <td>0.888237</td>\n",
       "      <td>0.978554</td>\n",
       "      <td>0.952549</td>\n",
       "      <td>0.356483</td>\n",
       "    </tr>\n",
       "    <tr>\n",
       "      <th>military auto</th>\n",
       "      <td>0.985719</td>\n",
       "      <td>0.990826</td>\n",
       "      <td>0.958516</td>\n",
       "      <td>0.994522</td>\n",
       "      <td>0.996237</td>\n",
       "      <td>0.995307</td>\n",
       "      <td>0.978464</td>\n",
       "      <td>1.000000</td>\n",
       "      <td>0.895804</td>\n",
       "      <td>0.912940</td>\n",
       "      <td>0.912945</td>\n",
       "      <td>0.971583</td>\n",
       "      <td>0.964941</td>\n",
       "      <td>0.356309</td>\n",
       "    </tr>\n",
       "    <tr>\n",
       "      <th>fuel tank</th>\n",
       "      <td>0.906747</td>\n",
       "      <td>0.910160</td>\n",
       "      <td>0.788889</td>\n",
       "      <td>0.891990</td>\n",
       "      <td>0.876610</td>\n",
       "      <td>0.923684</td>\n",
       "      <td>0.850929</td>\n",
       "      <td>0.895804</td>\n",
       "      <td>1.000000</td>\n",
       "      <td>0.945542</td>\n",
       "      <td>0.953270</td>\n",
       "      <td>0.808046</td>\n",
       "      <td>0.947365</td>\n",
       "      <td>0.446563</td>\n",
       "    </tr>\n",
       "    <tr>\n",
       "      <th>drone</th>\n",
       "      <td>0.955606</td>\n",
       "      <td>0.931214</td>\n",
       "      <td>0.792587</td>\n",
       "      <td>0.921450</td>\n",
       "      <td>0.896082</td>\n",
       "      <td>0.923346</td>\n",
       "      <td>0.879373</td>\n",
       "      <td>0.912940</td>\n",
       "      <td>0.945542</td>\n",
       "      <td>1.000000</td>\n",
       "      <td>0.937955</td>\n",
       "      <td>0.827691</td>\n",
       "      <td>0.947074</td>\n",
       "      <td>0.388776</td>\n",
       "    </tr>\n",
       "    <tr>\n",
       "      <th>naval ship</th>\n",
       "      <td>0.926864</td>\n",
       "      <td>0.931848</td>\n",
       "      <td>0.832053</td>\n",
       "      <td>0.917106</td>\n",
       "      <td>0.899481</td>\n",
       "      <td>0.928131</td>\n",
       "      <td>0.888237</td>\n",
       "      <td>0.912945</td>\n",
       "      <td>0.953270</td>\n",
       "      <td>0.937955</td>\n",
       "      <td>1.000000</td>\n",
       "      <td>0.857799</td>\n",
       "      <td>0.945061</td>\n",
       "      <td>0.050000</td>\n",
       "    </tr>\n",
       "    <tr>\n",
       "      <th>anti-aircraft warfare</th>\n",
       "      <td>0.949809</td>\n",
       "      <td>0.957791</td>\n",
       "      <td>0.986367</td>\n",
       "      <td>0.974011</td>\n",
       "      <td>0.980073</td>\n",
       "      <td>0.959594</td>\n",
       "      <td>0.978554</td>\n",
       "      <td>0.971583</td>\n",
       "      <td>0.808046</td>\n",
       "      <td>0.827691</td>\n",
       "      <td>0.857799</td>\n",
       "      <td>1.000000</td>\n",
       "      <td>0.880374</td>\n",
       "      <td>0.273764</td>\n",
       "    </tr>\n",
       "    <tr>\n",
       "      <th>special equipment</th>\n",
       "      <td>0.928421</td>\n",
       "      <td>0.976276</td>\n",
       "      <td>0.944375</td>\n",
       "      <td>0.954188</td>\n",
       "      <td>0.961523</td>\n",
       "      <td>0.972955</td>\n",
       "      <td>0.952549</td>\n",
       "      <td>0.964941</td>\n",
       "      <td>0.947365</td>\n",
       "      <td>0.947074</td>\n",
       "      <td>0.945061</td>\n",
       "      <td>0.880374</td>\n",
       "      <td>1.000000</td>\n",
       "      <td>0.553399</td>\n",
       "    </tr>\n",
       "    <tr>\n",
       "      <th>mobile SRBM system</th>\n",
       "      <td>0.369274</td>\n",
       "      <td>0.462636</td>\n",
       "      <td>0.333241</td>\n",
       "      <td>0.347489</td>\n",
       "      <td>0.411010</td>\n",
       "      <td>0.364410</td>\n",
       "      <td>0.356483</td>\n",
       "      <td>0.356309</td>\n",
       "      <td>0.446563</td>\n",
       "      <td>0.388776</td>\n",
       "      <td>0.050000</td>\n",
       "      <td>0.273764</td>\n",
       "      <td>0.553399</td>\n",
       "      <td>1.000000</td>\n",
       "    </tr>\n",
       "  </tbody>\n",
       "</table>\n",
       "</div>"
      ],
      "text/plain": [
       "                            day  aircraft  helicopter      tank       APC  \\\n",
       "day                    1.000000  0.990122    0.928761  0.992776  0.982879   \n",
       "aircraft               0.990122  1.000000    0.947124  0.992304  0.990142   \n",
       "helicopter             0.928761  0.947124    1.000000  0.959012  0.971602   \n",
       "tank                   0.992776  0.992304    0.959012  1.000000  0.995880   \n",
       "APC                    0.982879  0.990142    0.971602  0.995880  1.000000   \n",
       "field artillery        0.981575  0.989158    0.947345  0.987994  0.988285   \n",
       "MRL                    0.968820  0.964162    0.951534  0.983912  0.981905   \n",
       "military auto          0.985719  0.990826    0.958516  0.994522  0.996237   \n",
       "fuel tank              0.906747  0.910160    0.788889  0.891990  0.876610   \n",
       "drone                  0.955606  0.931214    0.792587  0.921450  0.896082   \n",
       "naval ship             0.926864  0.931848    0.832053  0.917106  0.899481   \n",
       "anti-aircraft warfare  0.949809  0.957791    0.986367  0.974011  0.980073   \n",
       "special equipment      0.928421  0.976276    0.944375  0.954188  0.961523   \n",
       "mobile SRBM system     0.369274  0.462636    0.333241  0.347489  0.411010   \n",
       "\n",
       "                       field artillery       MRL  military auto  fuel tank  \\\n",
       "day                           0.981575  0.968820       0.985719   0.906747   \n",
       "aircraft                      0.989158  0.964162       0.990826   0.910160   \n",
       "helicopter                    0.947345  0.951534       0.958516   0.788889   \n",
       "tank                          0.987994  0.983912       0.994522   0.891990   \n",
       "APC                           0.988285  0.981905       0.996237   0.876610   \n",
       "field artillery               1.000000  0.966743       0.995307   0.923684   \n",
       "MRL                           0.966743  1.000000       0.978464   0.850929   \n",
       "military auto                 0.995307  0.978464       1.000000   0.895804   \n",
       "fuel tank                     0.923684  0.850929       0.895804   1.000000   \n",
       "drone                         0.923346  0.879373       0.912940   0.945542   \n",
       "naval ship                    0.928131  0.888237       0.912945   0.953270   \n",
       "anti-aircraft warfare         0.959594  0.978554       0.971583   0.808046   \n",
       "special equipment             0.972955  0.952549       0.964941   0.947365   \n",
       "mobile SRBM system            0.364410  0.356483       0.356309   0.446563   \n",
       "\n",
       "                          drone  naval ship  anti-aircraft warfare  \\\n",
       "day                    0.955606    0.926864               0.949809   \n",
       "aircraft               0.931214    0.931848               0.957791   \n",
       "helicopter             0.792587    0.832053               0.986367   \n",
       "tank                   0.921450    0.917106               0.974011   \n",
       "APC                    0.896082    0.899481               0.980073   \n",
       "field artillery        0.923346    0.928131               0.959594   \n",
       "MRL                    0.879373    0.888237               0.978554   \n",
       "military auto          0.912940    0.912945               0.971583   \n",
       "fuel tank              0.945542    0.953270               0.808046   \n",
       "drone                  1.000000    0.937955               0.827691   \n",
       "naval ship             0.937955    1.000000               0.857799   \n",
       "anti-aircraft warfare  0.827691    0.857799               1.000000   \n",
       "special equipment      0.947074    0.945061               0.880374   \n",
       "mobile SRBM system     0.388776    0.050000               0.273764   \n",
       "\n",
       "                       special equipment  mobile SRBM system  \n",
       "day                             0.928421            0.369274  \n",
       "aircraft                        0.976276            0.462636  \n",
       "helicopter                      0.944375            0.333241  \n",
       "tank                            0.954188            0.347489  \n",
       "APC                             0.961523            0.411010  \n",
       "field artillery                 0.972955            0.364410  \n",
       "MRL                             0.952549            0.356483  \n",
       "military auto                   0.964941            0.356309  \n",
       "fuel tank                       0.947365            0.446563  \n",
       "drone                           0.947074            0.388776  \n",
       "naval ship                      0.945061            0.050000  \n",
       "anti-aircraft warfare           0.880374            0.273764  \n",
       "special equipment               1.000000            0.553399  \n",
       "mobile SRBM system              0.553399            1.000000  "
      ]
     },
     "execution_count": 25,
     "metadata": {},
     "output_type": "execute_result"
    }
   ],
   "source": [
    "df.corr()"
   ]
  },
  {
   "cell_type": "code",
   "execution_count": 26,
   "metadata": {},
   "outputs": [
    {
     "data": {
      "text/plain": [
       "Text(0.5, 1.0, 'df.corr()')"
      ]
     },
     "execution_count": 26,
     "metadata": {},
     "output_type": "execute_result"
    },
    {
     "data": {
      "image/png": "[encoded data removed]",
      "text/plain": [
       "<Figure size 432x288 with 2 Axes>"
      ]
     },
     "metadata": {
      "needs_background": "light"
     },
     "output_type": "display_data"
    }
   ],
   "source": [
    "sns.heatmap(df.corr(),cmap='coolwarm')\n",
    "plt.title('df.corr()')"
   ]
  },
  {
   "cell_type": "code",
   "execution_count": 27,
   "metadata": {},
   "outputs": [
    {
     "data": {
      "text/plain": [
       "<matplotlib.legend.Legend at 0x16892f2abb0>"
      ]
     },
     "execution_count": 27,
     "metadata": {},
     "output_type": "execute_result"
    },
    {
     "data": {
      "image/png": "[encoded data removed]",
      "text/plain": [
       "<Figure size 1440x360 with 1 Axes>"
      ]
     },
     "metadata": {
      "needs_background": "light"
     },
     "output_type": "display_data"
    }
   ],
   "source": [
    "date = df[\"date\"]\n",
    "air = df[\"aircraft\"]\n",
    "drone = df[\"drone\"]\n",
    "heli = df['helicopter'] \n",
    "plt.figure(figsize=(20, 5))\n",
    "plt.xticks(rotation=60)\n",
    "plt.title('losses air equipments')\n",
    "plt.plot(date, air, label='aircraft', marker='o')\n",
    "plt.plot(date, heli, label='helicopter', marker='o')\n",
    "plt.plot(date, drone, label='drone', marker='o')\n",
    "plt.legend(fontsize=15)"
   ]
  },
  {
   "cell_type": "code",
   "execution_count": 28,
   "metadata": {},
   "outputs": [
    {
     "data": {
      "text/plain": [
       "<matplotlib.legend.Legend at 0x16893c6f970>"
      ]
     },
     "execution_count": 28,
     "metadata": {},
     "output_type": "execute_result"
    },
    {
     "data": {
      "image/png": "[encoded data removed]",
      "text/plain": [
       "<Figure size 1440x360 with 1 Axes>"
      ]
     },
     "metadata": {
      "needs_background": "light"
     },
     "output_type": "display_data"
    }
   ],
   "source": [
    "date = df['date']\n",
    "tank = df['tank'] \n",
    "apc = df['APC'] \n",
    "fa = df['field artillery'] \n",
    "mrl = df['MRL'] \n",
    "ma = df['military auto'] \n",
    "plt.figure(figsize=(20, 5))\n",
    "plt.xticks(rotation=75)\n",
    "plt.title('losses ground equipments')\n",
    "plt.plot(date, tank, label='tank', marker='o')\n",
    "plt.plot(date, apc, label='APC', marker='o')\n",
    "plt.plot(date, fa, label='field artillery', marker='o')\n",
    "plt.plot(date, mrl, label='MRL', marker='o')\n",
    "plt.plot(date, ma, label='military auto' , marker='o')\n",
    "plt.legend(fontsize=15)"
   ]
  },
  {
   "cell_type": "code",
   "execution_count": null,
   "metadata": {},
   "outputs": [],
   "source": []
  }
 ],
 "metadata": {
  "kernelspec": {
   "display_name": "Python 3",
   "language": "python",
   "name": "python3"
  },
  "language_info": {
   "codemirror_mode": {
    "name": "ipython",
    "version": 3
   },
   "file_extension": ".py",
   "mimetype": "text/x-python",
   "name": "python",
   "nbconvert_exporter": "python",
   "pygments_lexer": "ipython3",
   "version": "3.8.3"
  }
 },
 "nbformat": 4,
 "nbformat_minor": 4
}
