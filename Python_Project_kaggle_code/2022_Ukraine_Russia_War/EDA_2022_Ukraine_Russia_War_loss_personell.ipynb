{
 "cells": [
  {
   "cell_type": "code",
   "execution_count": 1,
   "metadata": {},
   "outputs": [],
   "source": [
    "import numpy as np\n",
    "import pandas as pd\n",
    "import matplotlib.pyplot as plt\n",
    "import seaborn as sns"
   ]
  },
  {
   "cell_type": "code",
   "execution_count": 3,
   "metadata": {},
   "outputs": [],
   "source": [
    "pd.set_option('display.max_row', 147)\n",
    "pd.set_option('display.max_column', 147)"
   ]
  },
  {
   "cell_type": "code",
   "execution_count": 4,
   "metadata": {},
   "outputs": [
    {
     "data": {
      "text/html": [
       "<div>\n",
       "<style scoped>\n",
       "    .dataframe tbody tr th:only-of-type {\n",
       "        vertical-align: middle;\n",
       "    }\n",
       "\n",
       "    .dataframe tbody tr th {\n",
       "        vertical-align: top;\n",
       "    }\n",
       "\n",
       "    .dataframe thead th {\n",
       "        text-align: right;\n",
       "    }\n",
       "</style>\n",
       "<table border=\"1\" class=\"dataframe\">\n",
       "  <thead>\n",
       "    <tr style=\"text-align: right;\">\n",
       "      <th></th>\n",
       "      <th>date</th>\n",
       "      <th>day</th>\n",
       "      <th>personnel</th>\n",
       "      <th>personnel*</th>\n",
       "      <th>POW</th>\n",
       "    </tr>\n",
       "  </thead>\n",
       "  <tbody>\n",
       "    <tr>\n",
       "      <th>0</th>\n",
       "      <td>2022-02-25</td>\n",
       "      <td>2</td>\n",
       "      <td>2800</td>\n",
       "      <td>about</td>\n",
       "      <td>0</td>\n",
       "    </tr>\n",
       "    <tr>\n",
       "      <th>1</th>\n",
       "      <td>2022-02-26</td>\n",
       "      <td>3</td>\n",
       "      <td>4300</td>\n",
       "      <td>about</td>\n",
       "      <td>0</td>\n",
       "    </tr>\n",
       "    <tr>\n",
       "      <th>2</th>\n",
       "      <td>2022-02-27</td>\n",
       "      <td>4</td>\n",
       "      <td>4500</td>\n",
       "      <td>about</td>\n",
       "      <td>0</td>\n",
       "    </tr>\n",
       "    <tr>\n",
       "      <th>3</th>\n",
       "      <td>2022-02-28</td>\n",
       "      <td>5</td>\n",
       "      <td>5300</td>\n",
       "      <td>about</td>\n",
       "      <td>0</td>\n",
       "    </tr>\n",
       "    <tr>\n",
       "      <th>4</th>\n",
       "      <td>2022-03-01</td>\n",
       "      <td>6</td>\n",
       "      <td>5710</td>\n",
       "      <td>about</td>\n",
       "      <td>200</td>\n",
       "    </tr>\n",
       "  </tbody>\n",
       "</table>\n",
       "</div>"
      ],
      "text/plain": [
       "         date  day  personnel personnel*  POW\n",
       "0  2022-02-25    2       2800      about    0\n",
       "1  2022-02-26    3       4300      about    0\n",
       "2  2022-02-27    4       4500      about    0\n",
       "3  2022-02-28    5       5300      about    0\n",
       "4  2022-03-01    6       5710      about  200"
      ]
     },
     "execution_count": 4,
     "metadata": {},
     "output_type": "execute_result"
    }
   ],
   "source": [
    "df = pd.read_csv(\"russia_losses_personnel.csv\")\n",
    "df.head()"
   ]
  },
  {
   "cell_type": "code",
   "execution_count": 5,
   "metadata": {},
   "outputs": [
    {
     "data": {
      "text/plain": [
       "(50, 5)"
      ]
     },
     "execution_count": 5,
     "metadata": {},
     "output_type": "execute_result"
    }
   ],
   "source": [
    "df.shape"
   ]
  },
  {
   "cell_type": "code",
   "execution_count": 6,
   "metadata": {},
   "outputs": [
    {
     "data": {
      "text/plain": [
       "Index(['date', 'day', 'personnel', 'personnel*', 'POW'], dtype='object')"
      ]
     },
     "execution_count": 6,
     "metadata": {},
     "output_type": "execute_result"
    }
   ],
   "source": [
    "df.columns"
   ]
  },
  {
   "cell_type": "code",
   "execution_count": 7,
   "metadata": {},
   "outputs": [
    {
     "name": "stdout",
     "output_type": "stream",
     "text": [
      "<class 'pandas.core.frame.DataFrame'>\n",
      "RangeIndex: 50 entries, 0 to 49\n",
      "Data columns (total 5 columns):\n",
      " #   Column      Non-Null Count  Dtype \n",
      "---  ------      --------------  ----- \n",
      " 0   date        50 non-null     object\n",
      " 1   day         50 non-null     int64 \n",
      " 2   personnel   50 non-null     int64 \n",
      " 3   personnel*  50 non-null     object\n",
      " 4   POW         50 non-null     int64 \n",
      "dtypes: int64(3), object(2)\n",
      "memory usage: 2.1+ KB\n"
     ]
    }
   ],
   "source": [
    "df.info()"
   ]
  },
  {
   "cell_type": "code",
   "execution_count": 8,
   "metadata": {},
   "outputs": [
    {
     "data": {
      "text/plain": [
       "int64     3\n",
       "object    2\n",
       "dtype: int64"
      ]
     },
     "execution_count": 8,
     "metadata": {},
     "output_type": "execute_result"
    }
   ],
   "source": [
    "df.dtypes.value_counts()"
   ]
  },
  {
   "cell_type": "code",
   "execution_count": 11,
   "metadata": {},
   "outputs": [
    {
     "name": "stdout",
     "output_type": "stream",
     "text": [
      "0     2022-02-25\n",
      "1     2022-02-26\n",
      "2     2022-02-27\n",
      "3     2022-02-28\n",
      "4     2022-03-01\n",
      "5     2022-03-02\n",
      "6     2022-03-03\n",
      "7     2022-03-04\n",
      "8     2022-03-05\n",
      "9     2022-03-06\n",
      "10    2022-03-07\n",
      "11    2022-03-08\n",
      "12    2022-03-09\n",
      "13    2022-03-10\n",
      "14    2022-03-11\n",
      "15    2022-03-12\n",
      "16    2022-03-13\n",
      "17    2022-03-14\n",
      "18    2022-03-15\n",
      "19    2022-03-16\n",
      "20    2022-03-17\n",
      "21    2022-03-18\n",
      "22    2022-03-19\n",
      "23    2022-03-20\n",
      "24    2022-03-21\n",
      "25    2022-03-22\n",
      "26    2022-03-23\n",
      "27    2022-03-24\n",
      "28    2022-03-25\n",
      "29    2022-03-26\n",
      "30    2022-03-27\n",
      "31    2022-03-28\n",
      "32    2022-03-29\n",
      "33    2022-03-30\n",
      "34    2022-03-31\n",
      "35    2022-04-01\n",
      "36    2022-04-02\n",
      "37    2022-04-03\n",
      "38    2022-04-04\n",
      "39    2022-04-05\n",
      "40    2022-04-06\n",
      "41    2022-04-07\n",
      "42    2022-04-08\n",
      "43    2022-04-09\n",
      "44    2022-04-10\n",
      "45    2022-04-11\n",
      "46    2022-04-12\n",
      "47    2022-04-13\n",
      "48    2022-04-14\n",
      "49    2022-04-15\n",
      "Name: date, dtype: object\n",
      "0     about\n",
      "1     about\n",
      "2     about\n",
      "3     about\n",
      "4     about\n",
      "5     about\n",
      "6     about\n",
      "7     about\n",
      "8     about\n",
      "9     about\n",
      "10     more\n",
      "11    about\n",
      "12    about\n",
      "13     more\n",
      "14     more\n",
      "15     more\n",
      "16     more\n",
      "17     more\n",
      "18    about\n",
      "19    about\n",
      "20    about\n",
      "21    about\n",
      "22    about\n",
      "23    about\n",
      "24    about\n",
      "25    about\n",
      "26    about\n",
      "27    about\n",
      "28    about\n",
      "29    about\n",
      "30    about\n",
      "31    about\n",
      "32    about\n",
      "33    about\n",
      "34    about\n",
      "35    about\n",
      "36    about\n",
      "37    about\n",
      "38    about\n",
      "39    about\n",
      "40    about\n",
      "41    about\n",
      "42    about\n",
      "43    about\n",
      "44    about\n",
      "45    about\n",
      "46    about\n",
      "47    about\n",
      "48    about\n",
      "49    about\n",
      "Name: personnel*, dtype: object\n"
     ]
    }
   ],
   "source": [
    "for col in df.select_dtypes(\"object\"):\n",
    "    print(df[col])"
   ]
  },
  {
   "cell_type": "code",
   "execution_count": 12,
   "metadata": {},
   "outputs": [
    {
     "name": "stdout",
     "output_type": "stream",
     "text": [
      "0      2\n",
      "1      3\n",
      "2      4\n",
      "3      5\n",
      "4      6\n",
      "5      7\n",
      "6      8\n",
      "7      9\n",
      "8     10\n",
      "9     11\n",
      "10    12\n",
      "11    13\n",
      "12    14\n",
      "13    15\n",
      "14    16\n",
      "15    17\n",
      "16    18\n",
      "17    19\n",
      "18    20\n",
      "19    21\n",
      "20    22\n",
      "21    23\n",
      "22    24\n",
      "23    25\n",
      "24    26\n",
      "25    27\n",
      "26    28\n",
      "27    29\n",
      "28    30\n",
      "29    31\n",
      "30    32\n",
      "31    33\n",
      "32    34\n",
      "33    35\n",
      "34    36\n",
      "35    37\n",
      "36    38\n",
      "37    39\n",
      "38    40\n",
      "39    41\n",
      "40    42\n",
      "41    43\n",
      "42    44\n",
      "43    45\n",
      "44    46\n",
      "45    47\n",
      "46    48\n",
      "47    49\n",
      "48    50\n",
      "49    51\n",
      "Name: day, dtype: int64\n",
      "0      2800\n",
      "1      4300\n",
      "2      4500\n",
      "3      5300\n",
      "4      5710\n",
      "5      5840\n",
      "6      9000\n",
      "7      9166\n",
      "8     10000\n",
      "9     11000\n",
      "10    11000\n",
      "11    12000\n",
      "12    12000\n",
      "13    12000\n",
      "14    12000\n",
      "15    12000\n",
      "16    12000\n",
      "17    12000\n",
      "18    13500\n",
      "19    13800\n",
      "20    14000\n",
      "21    14200\n",
      "22    14400\n",
      "23    14700\n",
      "24    15000\n",
      "25    15300\n",
      "26    15600\n",
      "27    15800\n",
      "28    16100\n",
      "29    16400\n",
      "30    16600\n",
      "31    17000\n",
      "32    17200\n",
      "33    17300\n",
      "34    17500\n",
      "35    17700\n",
      "36    17700\n",
      "37    18000\n",
      "38    18300\n",
      "39    18500\n",
      "40    18600\n",
      "41    18900\n",
      "42    19000\n",
      "43    19100\n",
      "44    19300\n",
      "45    19500\n",
      "46    19600\n",
      "47    19800\n",
      "48    19900\n",
      "49    20000\n",
      "Name: personnel, dtype: int64\n",
      "0       0\n",
      "1       0\n",
      "2       0\n",
      "3       0\n",
      "4     200\n",
      "5     200\n",
      "6     200\n",
      "7     200\n",
      "8     216\n",
      "9     232\n",
      "10    259\n",
      "11    284\n",
      "12    360\n",
      "13    371\n",
      "14    389\n",
      "15    389\n",
      "16    389\n",
      "17    389\n",
      "18    389\n",
      "19    389\n",
      "20    405\n",
      "21    405\n",
      "22    405\n",
      "23    405\n",
      "24    405\n",
      "25    411\n",
      "26    412\n",
      "27    412\n",
      "28    412\n",
      "29    412\n",
      "30    421\n",
      "31    421\n",
      "32    430\n",
      "33    430\n",
      "34    459\n",
      "35    459\n",
      "36    460\n",
      "37    460\n",
      "38    460\n",
      "39    467\n",
      "40    467\n",
      "41    467\n",
      "42    467\n",
      "43    467\n",
      "44    467\n",
      "45    467\n",
      "46    477\n",
      "47    477\n",
      "48    477\n",
      "49    477\n",
      "Name: POW, dtype: int64\n"
     ]
    }
   ],
   "source": [
    "for col in df.select_dtypes(\"int64\"):\n",
    "    print(df[col])"
   ]
  },
  {
   "cell_type": "code",
   "execution_count": 13,
   "metadata": {},
   "outputs": [
    {
     "data": {
      "text/plain": [
       "<matplotlib.axes._subplots.AxesSubplot at 0x1d2d5cab3a0>"
      ]
     },
     "execution_count": 13,
     "metadata": {},
     "output_type": "execute_result"
    },
    {
     "data": {
      "image/png": "[encoded data removed]",
      "text/plain": [
       "<Figure size 1440x720 with 1 Axes>"
      ]
     },
     "metadata": {
      "needs_background": "light"
     },
     "output_type": "display_data"
    }
   ],
   "source": [
    "plt.figure(figsize=(20,10))\n",
    "sns.heatmap(df.isna(), cbar=False)"
   ]
  },
  {
   "cell_type": "code",
   "execution_count": 14,
   "metadata": {},
   "outputs": [
    {
     "data": {
      "text/plain": [
       "date          0.0\n",
       "day           0.0\n",
       "personnel     0.0\n",
       "personnel*    0.0\n",
       "POW           0.0\n",
       "dtype: float64"
      ]
     },
     "execution_count": 14,
     "metadata": {},
     "output_type": "execute_result"
    }
   ],
   "source": [
    "(df.isna().sum()/df.shape[0]).sort_values(ascending=True)"
   ]
  },
  {
   "cell_type": "code",
   "execution_count": 15,
   "metadata": {},
   "outputs": [],
   "source": [
    "list_object = []\n",
    "for col in df.select_dtypes('object'):\n",
    "    list_object.append(col)"
   ]
  },
  {
   "cell_type": "code",
   "execution_count": 16,
   "metadata": {},
   "outputs": [
    {
     "data": {
      "text/plain": [
       "['date', 'personnel*']"
      ]
     },
     "execution_count": 16,
     "metadata": {},
     "output_type": "execute_result"
    }
   ],
   "source": [
    "list_object"
   ]
  },
  {
   "cell_type": "code",
   "execution_count": 19,
   "metadata": {},
   "outputs": [],
   "source": [
    "list_int = []\n",
    "for col in df.select_dtypes('int64'):\n",
    "    list_int.append(col)"
   ]
  },
  {
   "cell_type": "code",
   "execution_count": 20,
   "metadata": {},
   "outputs": [
    {
     "data": {
      "text/plain": [
       "['day', 'personnel', 'POW']"
      ]
     },
     "execution_count": 20,
     "metadata": {},
     "output_type": "execute_result"
    }
   ],
   "source": [
    "list_int"
   ]
  },
  {
   "cell_type": "code",
   "execution_count": 21,
   "metadata": {},
   "outputs": [
    {
     "name": "stdout",
     "output_type": "stream",
     "text": [
      "day----------------------------------------------- [ 2  3  4  5  6  7  8  9 10 11 12 13 14 15 16 17 18 19 20 21 22 23 24 25\n",
      " 26 27 28 29 30 31 32 33 34 35 36 37 38 39 40 41 42 43 44 45 46 47 48 49\n",
      " 50 51]\n",
      "personnel----------------------------------------- [ 2800  4300  4500  5300  5710  5840  9000  9166 10000 11000 12000 13500\n",
      " 13800 14000 14200 14400 14700 15000 15300 15600 15800 16100 16400 16600\n",
      " 17000 17200 17300 17500 17700 18000 18300 18500 18600 18900 19000 19100\n",
      " 19300 19500 19600 19800 19900 20000]\n",
      "POW----------------------------------------------- [  0 200 216 232 259 284 360 371 389 405 411 412 421 430 459 460 467 477]\n"
     ]
    }
   ],
   "source": [
    "for col in df.select_dtypes('int64'):\n",
    "    print(f'{col :-<50} {df[col].unique()}')"
   ]
  },
  {
   "cell_type": "code",
   "execution_count": 22,
   "metadata": {},
   "outputs": [
    {
     "name": "stdout",
     "output_type": "stream",
     "text": [
      "date---------------------------------------------- ['2022-02-25' '2022-02-26' '2022-02-27' '2022-02-28' '2022-03-01'\n",
      " '2022-03-02' '2022-03-03' '2022-03-04' '2022-03-05' '2022-03-06'\n",
      " '2022-03-07' '2022-03-08' '2022-03-09' '2022-03-10' '2022-03-11'\n",
      " '2022-03-12' '2022-03-13' '2022-03-14' '2022-03-15' '2022-03-16'\n",
      " '2022-03-17' '2022-03-18' '2022-03-19' '2022-03-20' '2022-03-21'\n",
      " '2022-03-22' '2022-03-23' '2022-03-24' '2022-03-25' '2022-03-26'\n",
      " '2022-03-27' '2022-03-28' '2022-03-29' '2022-03-30' '2022-03-31'\n",
      " '2022-04-01' '2022-04-02' '2022-04-03' '2022-04-04' '2022-04-05'\n",
      " '2022-04-06' '2022-04-07' '2022-04-08' '2022-04-09' '2022-04-10'\n",
      " '2022-04-11' '2022-04-12' '2022-04-13' '2022-04-14' '2022-04-15']\n",
      "personnel*---------------------------------------- ['about' 'more']\n"
     ]
    }
   ],
   "source": [
    "for col in df.select_dtypes('object'):\n",
    "    print(f'{col :-<50} {df[col].unique()}')"
   ]
  },
  {
   "cell_type": "code",
   "execution_count": 23,
   "metadata": {},
   "outputs": [
    {
     "data": {
      "text/html": [
       "<div>\n",
       "<style scoped>\n",
       "    .dataframe tbody tr th:only-of-type {\n",
       "        vertical-align: middle;\n",
       "    }\n",
       "\n",
       "    .dataframe tbody tr th {\n",
       "        vertical-align: top;\n",
       "    }\n",
       "\n",
       "    .dataframe thead th {\n",
       "        text-align: right;\n",
       "    }\n",
       "</style>\n",
       "<table border=\"1\" class=\"dataframe\">\n",
       "  <thead>\n",
       "    <tr style=\"text-align: right;\">\n",
       "      <th></th>\n",
       "      <th>count</th>\n",
       "      <th>mean</th>\n",
       "      <th>std</th>\n",
       "      <th>min</th>\n",
       "      <th>25%</th>\n",
       "      <th>50%</th>\n",
       "      <th>75%</th>\n",
       "      <th>max</th>\n",
       "    </tr>\n",
       "  </thead>\n",
       "  <tbody>\n",
       "    <tr>\n",
       "      <th>day</th>\n",
       "      <td>50.0</td>\n",
       "      <td>26.50</td>\n",
       "      <td>14.577380</td>\n",
       "      <td>2.0</td>\n",
       "      <td>14.25</td>\n",
       "      <td>26.5</td>\n",
       "      <td>38.75</td>\n",
       "      <td>51.0</td>\n",
       "    </tr>\n",
       "    <tr>\n",
       "      <th>POW</th>\n",
       "      <td>50.0</td>\n",
       "      <td>362.34</td>\n",
       "      <td>135.832672</td>\n",
       "      <td>0.0</td>\n",
       "      <td>362.75</td>\n",
       "      <td>408.0</td>\n",
       "      <td>460.00</td>\n",
       "      <td>477.0</td>\n",
       "    </tr>\n",
       "    <tr>\n",
       "      <th>personnel</th>\n",
       "      <td>50.0</td>\n",
       "      <td>14218.32</td>\n",
       "      <td>4672.966271</td>\n",
       "      <td>2800.0</td>\n",
       "      <td>12000.00</td>\n",
       "      <td>15150.0</td>\n",
       "      <td>17925.00</td>\n",
       "      <td>20000.0</td>\n",
       "    </tr>\n",
       "  </tbody>\n",
       "</table>\n",
       "</div>"
      ],
      "text/plain": [
       "           count      mean          std     min       25%      50%       75%  \\\n",
       "day         50.0     26.50    14.577380     2.0     14.25     26.5     38.75   \n",
       "POW         50.0    362.34   135.832672     0.0    362.75    408.0    460.00   \n",
       "personnel   50.0  14218.32  4672.966271  2800.0  12000.00  15150.0  17925.00   \n",
       "\n",
       "               max  \n",
       "day           51.0  \n",
       "POW          477.0  \n",
       "personnel  20000.0  "
      ]
     },
     "execution_count": 23,
     "metadata": {},
     "output_type": "execute_result"
    }
   ],
   "source": [
    "df.describe().transpose().sort_values(\"std\")"
   ]
  },
  {
   "cell_type": "code",
   "execution_count": 25,
   "metadata": {},
   "outputs": [
    {
     "data": {
      "text/plain": [
       "12000    7\n",
       "11000    2\n",
       "17700    2\n",
       "5840     1\n",
       "17500    1\n",
       "18000    1\n",
       "15000    1\n",
       "9166     1\n",
       "4500     1\n",
       "16400    1\n",
       "19500    1\n",
       "19000    1\n",
       "19600    1\n",
       "5710     1\n",
       "4300     1\n",
       "18300    1\n",
       "18900    1\n",
       "14000    1\n",
       "15300    1\n",
       "19800    1\n",
       "19100    1\n",
       "15600    1\n",
       "16100    1\n",
       "17200    1\n",
       "19300    1\n",
       "18600    1\n",
       "13500    1\n",
       "17300    1\n",
       "20000    1\n",
       "17000    1\n",
       "5300     1\n",
       "10000    1\n",
       "2800     1\n",
       "13800    1\n",
       "15800    1\n",
       "18500    1\n",
       "14700    1\n",
       "19900    1\n",
       "16600    1\n",
       "9000     1\n",
       "14200    1\n",
       "14400    1\n",
       "Name: personnel, dtype: int64"
      ]
     },
     "execution_count": 25,
     "metadata": {},
     "output_type": "execute_result"
    }
   ],
   "source": [
    "df[\"personnel\"].value_counts()"
   ]
  },
  {
   "cell_type": "code",
   "execution_count": 26,
   "metadata": {},
   "outputs": [
    {
     "data": {
      "text/plain": [
       "467    7\n",
       "389    6\n",
       "405    5\n",
       "0      4\n",
       "412    4\n",
       "477    4\n",
       "200    4\n",
       "460    3\n",
       "430    2\n",
       "421    2\n",
       "459    2\n",
       "259    1\n",
       "371    1\n",
       "360    1\n",
       "411    1\n",
       "284    1\n",
       "232    1\n",
       "216    1\n",
       "Name: POW, dtype: int64"
      ]
     },
     "execution_count": 26,
     "metadata": {},
     "output_type": "execute_result"
    }
   ],
   "source": [
    "df[\"POW\"].value_counts()"
   ]
  },
  {
   "cell_type": "code",
   "execution_count": 28,
   "metadata": {},
   "outputs": [
    {
     "data": {
      "text/plain": [
       "51    1\n",
       "14    1\n",
       "24    1\n",
       "23    1\n",
       "22    1\n",
       "21    1\n",
       "20    1\n",
       "19    1\n",
       "18    1\n",
       "17    1\n",
       "16    1\n",
       "15    1\n",
       "13    1\n",
       "50    1\n",
       "12    1\n",
       "11    1\n",
       "10    1\n",
       "9     1\n",
       "8     1\n",
       "7     1\n",
       "6     1\n",
       "5     1\n",
       "4     1\n",
       "3     1\n",
       "25    1\n",
       "26    1\n",
       "27    1\n",
       "28    1\n",
       "49    1\n",
       "48    1\n",
       "47    1\n",
       "46    1\n",
       "45    1\n",
       "44    1\n",
       "43    1\n",
       "42    1\n",
       "41    1\n",
       "40    1\n",
       "39    1\n",
       "38    1\n",
       "37    1\n",
       "36    1\n",
       "35    1\n",
       "34    1\n",
       "33    1\n",
       "32    1\n",
       "31    1\n",
       "30    1\n",
       "29    1\n",
       "2     1\n",
       "Name: day, dtype: int64"
      ]
     },
     "execution_count": 28,
     "metadata": {},
     "output_type": "execute_result"
    }
   ],
   "source": [
    "df[\"day\"].value_counts()"
   ]
  },
  {
   "cell_type": "code",
   "execution_count": 29,
   "metadata": {},
   "outputs": [
    {
     "data": {
      "text/plain": [
       "<matplotlib.axes._subplots.AxesSubplot at 0x1d2d6553250>"
      ]
     },
     "execution_count": 29,
     "metadata": {},
     "output_type": "execute_result"
    },
    {
     "data": {
      "image/png": "[encoded data removed]",
      "text/plain": [
       "<Figure size 432x288 with 1 Axes>"
      ]
     },
     "metadata": {},
     "output_type": "display_data"
    }
   ],
   "source": [
    "df.dtypes.value_counts().plot.pie()"
   ]
  },
  {
   "cell_type": "code",
   "execution_count": 30,
   "metadata": {},
   "outputs": [
    {
     "data": {
      "text/html": [
       "<div>\n",
       "<style scoped>\n",
       "    .dataframe tbody tr th:only-of-type {\n",
       "        vertical-align: middle;\n",
       "    }\n",
       "\n",
       "    .dataframe tbody tr th {\n",
       "        vertical-align: top;\n",
       "    }\n",
       "\n",
       "    .dataframe thead th {\n",
       "        text-align: right;\n",
       "    }\n",
       "</style>\n",
       "<table border=\"1\" class=\"dataframe\">\n",
       "  <thead>\n",
       "    <tr style=\"text-align: right;\">\n",
       "      <th></th>\n",
       "      <th>day</th>\n",
       "      <th>personnel</th>\n",
       "      <th>POW</th>\n",
       "    </tr>\n",
       "  </thead>\n",
       "  <tbody>\n",
       "    <tr>\n",
       "      <th>day</th>\n",
       "      <td>1.000000</td>\n",
       "      <td>0.958566</td>\n",
       "      <td>0.846722</td>\n",
       "    </tr>\n",
       "    <tr>\n",
       "      <th>personnel</th>\n",
       "      <td>0.958566</td>\n",
       "      <td>1.000000</td>\n",
       "      <td>0.937132</td>\n",
       "    </tr>\n",
       "    <tr>\n",
       "      <th>POW</th>\n",
       "      <td>0.846722</td>\n",
       "      <td>0.937132</td>\n",
       "      <td>1.000000</td>\n",
       "    </tr>\n",
       "  </tbody>\n",
       "</table>\n",
       "</div>"
      ],
      "text/plain": [
       "                day  personnel       POW\n",
       "day        1.000000   0.958566  0.846722\n",
       "personnel  0.958566   1.000000  0.937132\n",
       "POW        0.846722   0.937132  1.000000"
      ]
     },
     "execution_count": 30,
     "metadata": {},
     "output_type": "execute_result"
    }
   ],
   "source": [
    "df.corr()"
   ]
  },
  {
   "cell_type": "code",
   "execution_count": 31,
   "metadata": {},
   "outputs": [
    {
     "data": {
      "text/plain": [
       "Text(0.5, 1.0, 'df.corr()')"
      ]
     },
     "execution_count": 31,
     "metadata": {},
     "output_type": "execute_result"
    },
    {
     "data": {
      "image/png": "[encoded data removed]",
      "text/plain": [
       "<Figure size 432x288 with 2 Axes>"
      ]
     },
     "metadata": {
      "needs_background": "light"
     },
     "output_type": "display_data"
    }
   ],
   "source": [
    "sns.heatmap(df.corr(),cmap='coolwarm')\n",
    "plt.title('df.corr()')"
   ]
  },
  {
   "cell_type": "code",
   "execution_count": null,
   "metadata": {},
   "outputs": [],
   "source": []
  }
 ],
 "metadata": {
  "kernelspec": {
   "display_name": "Python 3",
   "language": "python",
   "name": "python3"
  },
  "language_info": {
   "codemirror_mode": {
    "name": "ipython",
    "version": 3
   },
   "file_extension": ".py",
   "mimetype": "text/x-python",
   "name": "python",
   "nbconvert_exporter": "python",
   "pygments_lexer": "ipython3",
   "version": "3.8.3"
  }
 },
 "nbformat": 4,
 "nbformat_minor": 4
}
